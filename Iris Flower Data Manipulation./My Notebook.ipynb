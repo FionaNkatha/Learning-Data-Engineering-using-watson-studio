{
    "cells": [
        {
            "metadata": {},
            "cell_type": "code",
            "source": "# the data science methodology for using notebooks\n# importing pandas package to help describe the data\n\nimport pandas\ndata = pandas.read_csv(\"http://modcom.co.ke/bigdatasept/datasets/iris.csv\")\nprint(data)",
            "execution_count": 1,
            "outputs": [
                {
                    "output_type": "stream",
                    "text": "     sepallength sepalwidth  petallength  petalwidth           class\n0            5.1        3.5          1.4         0.2     Iris-setosa\n1            4.9          3          1.4         0.2     Iris-setosa\n2            4.7        3.2          1.3         0.2     Iris-setosa\n3            4.6        3.1          1.5         0.2     Iris-setosa\n4            5.0        3.6          1.4         0.2     Iris-setosa\n5            5.4        3.9          1.7         0.4     Iris-setosa\n6            4.6        3.4          1.4         0.3     Iris-setosa\n7            5.0        3.4          1.5         0.2     Iris-setosa\n8            4.4        2.9          1.4         0.2     Iris-setosa\n9            4.9        3.1          1.5         0.1     Iris-setosa\n10           5.4        3.7          1.5         0.2     Iris-setosa\n11           4.8        3.4          1.6         0.2     Iris-setosa\n12           4.8          3          1.4         0.1     Iris-setosa\n13           4.3          3          1.1         0.1     Iris-setosa\n14           5.8          4          1.2         0.2     Iris-setosa\n15           5.7        4.4          1.5         0.4     Iris-setosa\n16           5.4        3.9          1.3         0.4     Iris-setosa\n17           5.1        3.5          1.4         0.3     Iris-setosa\n18           5.7        3.8          1.7         0.3     Iris-setosa\n19           5.1        3.8          1.5         0.3     Iris-setosa\n20           5.4        3.4          1.7         0.2     Iris-setosa\n21           5.1        3.7          1.5         0.4     Iris-setosa\n22           4.6        3.6          1.0         0.2     Iris-setosa\n23           5.1        3.3          1.7         0.5     Iris-setosa\n24           4.8        3.4          1.9         0.2     Iris-setosa\n25           5.0          3          1.6         0.2     Iris-setosa\n26           5.0        3.4          1.6         0.4     Iris-setosa\n27           5.2        3.5          1.5         0.2     Iris-setosa\n28           5.2        3.4          NaN         0.2     Iris-setosa\n29           4.7        3.2          1.6         0.2     Iris-setosa\n..           ...        ...          ...         ...             ...\n120          6.9        3.2          5.7         2.3  Iris-virginica\n121          5.6        2.8          4.9         2.0  Iris-virginica\n122          7.7        2.8          6.7         2.0  Iris-virginica\n123          6.3        2.7          4.9         1.8  Iris-virginica\n124          6.7        3.3          5.7         2.1  Iris-virginica\n125          7.2        3.2          6.0         1.8  Iris-virginica\n126          6.2        2.8          4.8         1.8  Iris-virginica\n127          6.1          3          4.9         1.8  Iris-virginica\n128          6.4        2.8          5.6         2.1  Iris-virginica\n129          7.2          3          5.8         1.6  Iris-virginica\n130          7.4        2.8          6.1         1.9  Iris-virginica\n131          7.9        3.8          6.4         2.0  Iris-virginica\n132          6.4        2.8          5.6         2.2  Iris-virginica\n133          6.3        2.8          5.1         1.5  Iris-virginica\n134          6.1        2.6          5.6         1.4  Iris-virginica\n135          7.7          3          6.1         2.3  Iris-virginica\n136          6.3        3.4          5.6         2.4  Iris-virginica\n137          6.4        3.1          5.5         1.8  Iris-virginica\n138          6.0          3          4.8         1.8  Iris-virginica\n139          6.9        3.1          5.4         2.1  Iris-virginica\n140          6.7        3.1          5.6         2.4  Iris-virginica\n141          6.9        3.1          5.1         2.3  Iris-virginica\n142          5.8        2.7          5.1         1.9  Iris-virginica\n143          6.8        3.2          5.9         2.3  Iris-virginica\n144          6.7        3.3          5.7         2.5  Iris-virginica\n145          6.7          3          5.2         2.3  Iris-virginica\n146          6.3        2.5          5.0         1.9  Iris-virginica\n147          6.5          3          5.2         2.0  Iris-virginica\n148          6.2        3.4          5.4         2.3  Iris-virginica\n149          5.9          3          5.1         1.8  Iris-virginica\n\n[150 rows x 5 columns]\n",
                    "name": "stdout"
                }
            ]
        },
        {
            "metadata": {},
            "cell_type": "code",
            "source": "# to know how many rows(records) and columns\n\nprint(data.shape)",
            "execution_count": 2,
            "outputs": [
                {
                    "output_type": "stream",
                    "text": "(150, 5)\n",
                    "name": "stdout"
                }
            ]
        },
        {
            "metadata": {},
            "cell_type": "code",
            "source": " # to describe/analyse the data using the describe function\n\nprint(data.describe())",
            "execution_count": 3,
            "outputs": [
                {
                    "output_type": "stream",
                    "text": "       sepallength  petallength  petalwidth\ncount   150.000000   148.000000  150.000000\nmean      5.843333     3.791216    1.198667\nstd       0.828066     1.753711    0.763161\nmin       4.300000     1.000000    0.100000\n25%       5.100000     1.600000    0.300000\n50%       5.800000     4.400000    1.300000\n75%       6.400000     5.100000    1.800000\nmax       7.900000     6.900000    2.500000\n",
                    "name": "stdout"
                }
            ]
        },
        {
            "metadata": {},
            "cell_type": "code",
            "source": "# to show relationships in the data using the cor-relate function corr()\n\nprint(data.corr())",
            "execution_count": 4,
            "outputs": [
                {
                    "output_type": "stream",
                    "text": "             sepallength  petallength  petalwidth\nsepallength     1.000000     0.870964    0.817954\npetallength     0.870964     1.000000    0.962038\npetalwidth      0.817954     0.962038    1.000000\n",
                    "name": "stdout"
                }
            ]
        },
        {
            "metadata": {},
            "cell_type": "code",
            "source": "# to group data according to specifications using groupby function groupby()\n\nprint('Grouping each class by size\\n', data.groupby('class').size(), '\\n\\n','Grouping each class sepallength by mean\\n', data.groupby('class')['sepallength'].mean(), '\\n\\nGrouping each class petallength by median\\n', data.groupby('class')['petallength'].median())",
            "execution_count": 5,
            "outputs": [
                {
                    "output_type": "stream",
                    "text": "Grouping each class by size\n class\nIris-setosa        50\nIris-versicolor    50\nIris-virginica     50\ndtype: int64 \n\n Grouping each class sepallength by mean\n class\nIris-setosa        5.006\nIris-versicolor    5.936\nIris-virginica     6.588\nName: sepallength, dtype: float64 \n\nGrouping each class petallength by median\n class\nIris-setosa        1.50\nIris-versicolor    4.35\nIris-virginica     5.55\nName: petallength, dtype: float64\n",
                    "name": "stdout"
                }
            ]
        },
        {
            "metadata": {},
            "cell_type": "code",
            "source": "# how to find null data using isnull() function and how many null inputs we have\n\nprint(data.isnull().sum())",
            "execution_count": 6,
            "outputs": [
                {
                    "output_type": "stream",
                    "text": "sepallength    0\nsepalwidth     0\npetallength    2\npetalwidth     0\nclass          0\ndtype: int64\n",
                    "name": "stdout"
                }
            ]
        },
        {
            "metadata": {},
            "cell_type": "code",
            "source": "# how to fix null inputs\npetallenth_median = data['petallength'].median()\nprint('Median of petallength is ', petallenth_median)",
            "execution_count": 7,
            "outputs": [
                {
                    "output_type": "stream",
                    "text": "Median of petallength is  4.4\n",
                    "name": "stdout"
                }
            ]
        },
        {
            "metadata": {},
            "cell_type": "code",
            "source": "# fill null slots using median and fillna() function\n# we use median because in statistics for every empty slot the median value is used to replace it for fairness sake\n\ndata['petallength'].fillna(petallenth_median, inplace = True)\n\n#check if all null values have been replaced in the data\nprint(data.isnull().sum())",
            "execution_count": 8,
            "outputs": [
                {
                    "output_type": "stream",
                    "text": "sepallength    0\nsepalwidth     0\npetallength    0\npetalwidth     0\nclass          0\ndtype: int64\n",
                    "name": "stdout"
                }
            ]
        },
        {
            "metadata": {
                "scrolled": true
            },
            "cell_type": "code",
            "source": "# how to solve \"?\" in sepalwidth\n# replace ? with NaN type\n# import library numpy\n\nimport numpy\ndata['sepalwidth'] = data['sepalwidth'].replace('?', numpy.NaN)\n\n# get median and replace null inputs\nsepalwidth_median = data['sepalwidth'].median()\nprint('\\nSepalwidth median is,',sepalwidth_median)\n\ndata['sepalwidth'].fillna(sepalwidth_median, inplace = True)\n\n# make sepalwidth a float type\ndata['sepalwidth']  = data['sepalwidth'].astype(float)\n\n#confirm the data can be rep.\nprint('\\n\\n', data.describe())",
            "execution_count": 9,
            "outputs": [
                {
                    "output_type": "stream",
                    "text": "\nSepalwidth median is, 3.0\n\n\n        sepallength  sepalwidth  petallength  petalwidth\ncount   150.000000  150.000000   150.000000  150.000000\nmean      5.843333    3.052667     3.799333    1.198667\nstd       0.828066    0.433450     1.743309    0.763161\nmin       4.300000    2.000000     1.000000    0.100000\n25%       5.100000    2.800000     1.600000    0.300000\n50%       5.800000    3.000000     4.400000    1.300000\n75%       6.400000    3.300000     5.100000    1.800000\nmax       7.900000    4.400000     6.900000    2.500000\n",
                    "name": "stdout"
                }
            ]
        },
        {
            "metadata": {},
            "cell_type": "code",
            "source": "#how to train the model to predict a flower class\n# STEP 1: the data we have cannot be splitted easily and therefore to make it dynamic we convert it into an array\n\ndata_array = data.values\nprint('Data in form of an array:\\n\\n',data_array)\n\n# to split the data in form of inputs and output we can group in into inputs and outputs\n# x-> will have decimal inputs from 0 to 3 and y-> will have the class as the output\n# grouping into x and y and confirm successful execution\n# the full collon shows that all rows are included note it is upto 4 and not 3 because of tupple nature of minus 1 for range\n\nx = data_array[:, 0:4] \ny = data_array[:,4]\nprint('\\nInput x:\\n\\n', x)\nprint('\\nOutput y:\\n\\n', y)",
            "execution_count": 10,
            "outputs": [
                {
                    "output_type": "stream",
                    "text": "Data in form of an array:\n\n [[5.1 3.5 1.4 0.2 'Iris-setosa']\n [4.9 3.0 1.4 0.2 'Iris-setosa']\n [4.7 3.2 1.3 0.2 'Iris-setosa']\n [4.6 3.1 1.5 0.2 'Iris-setosa']\n [5.0 3.6 1.4 0.2 'Iris-setosa']\n [5.4 3.9 1.7 0.4 'Iris-setosa']\n [4.6 3.4 1.4 0.3 'Iris-setosa']\n [5.0 3.4 1.5 0.2 'Iris-setosa']\n [4.4 2.9 1.4 0.2 'Iris-setosa']\n [4.9 3.1 1.5 0.1 'Iris-setosa']\n [5.4 3.7 1.5 0.2 'Iris-setosa']\n [4.8 3.4 1.6 0.2 'Iris-setosa']\n [4.8 3.0 1.4 0.1 'Iris-setosa']\n [4.3 3.0 1.1 0.1 'Iris-setosa']\n [5.8 4.0 1.2 0.2 'Iris-setosa']\n [5.7 4.4 1.5 0.4 'Iris-setosa']\n [5.4 3.9 1.3 0.4 'Iris-setosa']\n [5.1 3.5 1.4 0.3 'Iris-setosa']\n [5.7 3.8 1.7 0.3 'Iris-setosa']\n [5.1 3.8 1.5 0.3 'Iris-setosa']\n [5.4 3.4 1.7 0.2 'Iris-setosa']\n [5.1 3.7 1.5 0.4 'Iris-setosa']\n [4.6 3.6 1.0 0.2 'Iris-setosa']\n [5.1 3.3 1.7 0.5 'Iris-setosa']\n [4.8 3.4 1.9 0.2 'Iris-setosa']\n [5.0 3.0 1.6 0.2 'Iris-setosa']\n [5.0 3.4 1.6 0.4 'Iris-setosa']\n [5.2 3.5 1.5 0.2 'Iris-setosa']\n [5.2 3.4 4.4 0.2 'Iris-setosa']\n [4.7 3.2 1.6 0.2 'Iris-setosa']\n [4.8 3.1 1.6 0.2 'Iris-setosa']\n [5.4 3.4 1.5 0.4 'Iris-setosa']\n [5.2 4.1 1.5 0.1 'Iris-setosa']\n [5.5 4.2 1.4 0.2 'Iris-setosa']\n [4.9 3.1 1.5 0.1 'Iris-setosa']\n [5.0 3.2 1.2 0.2 'Iris-setosa']\n [5.5 3.5 1.3 0.2 'Iris-setosa']\n [4.9 3.1 1.5 0.1 'Iris-setosa']\n [4.4 3.0 1.3 0.2 'Iris-setosa']\n [5.1 3.4 1.5 0.2 'Iris-setosa']\n [5.0 3.5 4.4 0.3 'Iris-setosa']\n [4.5 2.3 1.3 0.3 'Iris-setosa']\n [4.4 3.2 1.3 0.2 'Iris-setosa']\n [5.0 3.5 1.6 0.6 'Iris-setosa']\n [5.1 3.8 1.9 0.4 'Iris-setosa']\n [4.8 3.0 1.4 0.3 'Iris-setosa']\n [5.1 3.8 1.6 0.2 'Iris-setosa']\n [4.6 3.2 1.4 0.2 'Iris-setosa']\n [5.3 3.7 1.5 0.2 'Iris-setosa']\n [5.0 3.3 1.4 0.2 'Iris-setosa']\n [7.0 3.0 4.7 1.4 'Iris-versicolor']\n [6.4 3.2 4.5 1.5 'Iris-versicolor']\n [6.9 3.1 4.9 1.5 'Iris-versicolor']\n [5.5 2.3 4.0 1.3 'Iris-versicolor']\n [6.5 2.8 4.6 1.5 'Iris-versicolor']\n [5.7 2.8 4.5 1.3 'Iris-versicolor']\n [6.3 3.3 4.7 1.6 'Iris-versicolor']\n [4.9 2.4 3.3 1.0 'Iris-versicolor']\n [6.6 2.9 4.6 1.3 'Iris-versicolor']\n [5.2 2.7 3.9 1.4 'Iris-versicolor']\n [5.0 2.0 3.5 1.0 'Iris-versicolor']\n [5.9 3.0 4.2 1.5 'Iris-versicolor']\n [6.0 2.2 4.0 1.0 'Iris-versicolor']\n [6.1 2.9 4.7 1.4 'Iris-versicolor']\n [5.6 2.9 3.6 1.3 'Iris-versicolor']\n [6.7 3.1 4.4 1.4 'Iris-versicolor']\n [5.6 3.0 4.5 1.5 'Iris-versicolor']\n [5.8 2.7 4.1 1.0 'Iris-versicolor']\n [6.2 2.2 4.5 1.5 'Iris-versicolor']\n [5.6 2.5 3.9 1.1 'Iris-versicolor']\n [5.9 3.2 4.8 1.8 'Iris-versicolor']\n [6.1 2.8 4.0 1.3 'Iris-versicolor']\n [6.3 2.5 4.9 1.5 'Iris-versicolor']\n [6.1 2.8 4.7 1.2 'Iris-versicolor']\n [6.4 2.9 4.3 1.3 'Iris-versicolor']\n [6.6 3.0 4.4 1.4 'Iris-versicolor']\n [6.8 2.8 4.8 1.4 'Iris-versicolor']\n [6.7 3.0 5.0 1.7 'Iris-versicolor']\n [6.0 2.9 4.5 1.5 'Iris-versicolor']\n [5.7 2.6 3.5 1.0 'Iris-versicolor']\n [5.5 2.4 3.8 1.1 'Iris-versicolor']\n [5.5 2.4 3.7 1.0 'Iris-versicolor']\n [5.8 2.7 3.9 1.2 'Iris-versicolor']\n [6.0 2.7 5.1 1.6 'Iris-versicolor']\n [5.4 3.0 4.5 1.5 'Iris-versicolor']\n [6.0 3.4 4.5 1.6 'Iris-versicolor']\n [6.7 3.1 4.7 1.5 'Iris-versicolor']\n [6.3 2.3 4.4 1.3 'Iris-versicolor']\n [5.6 3.0 4.1 1.3 'Iris-versicolor']\n [5.5 2.5 4.0 1.3 'Iris-versicolor']\n [5.5 2.6 4.4 1.2 'Iris-versicolor']\n [6.1 3.0 4.6 1.4 'Iris-versicolor']\n [5.8 2.6 4.0 1.2 'Iris-versicolor']\n [5.0 2.3 3.3 1.0 'Iris-versicolor']\n [5.6 2.7 4.2 1.3 'Iris-versicolor']\n [5.7 3.0 4.2 1.2 'Iris-versicolor']\n [5.7 2.9 4.2 1.3 'Iris-versicolor']\n [6.2 2.9 4.3 1.3 'Iris-versicolor']\n [5.1 2.5 3.0 1.1 'Iris-versicolor']\n [5.7 2.8 4.1 1.3 'Iris-versicolor']\n [6.3 3.3 6.0 2.5 'Iris-virginica']\n [5.8 2.7 5.1 1.9 'Iris-virginica']\n [7.1 3.0 5.9 2.1 'Iris-virginica']\n [6.3 2.9 5.6 1.8 'Iris-virginica']\n [6.5 3.0 5.8 2.2 'Iris-virginica']\n [7.6 3.0 6.6 2.1 'Iris-virginica']\n [4.9 2.5 4.5 1.7 'Iris-virginica']\n [7.3 2.9 6.3 1.8 'Iris-virginica']\n [6.7 2.5 5.8 1.8 'Iris-virginica']\n [7.2 3.6 6.1 2.5 'Iris-virginica']\n [6.5 3.2 5.1 2.0 'Iris-virginica']\n [6.4 2.7 5.3 1.9 'Iris-virginica']\n [6.8 3.0 5.5 2.1 'Iris-virginica']\n [5.7 2.5 5.0 2.0 'Iris-virginica']\n [5.8 2.8 5.1 2.4 'Iris-virginica']\n [6.4 3.2 5.3 2.3 'Iris-virginica']\n [6.5 3.0 5.5 1.8 'Iris-virginica']\n [7.7 3.8 6.7 2.2 'Iris-virginica']\n [7.7 2.6 6.9 2.3 'Iris-virginica']\n [6.0 2.2 5.0 1.5 'Iris-virginica']\n [6.9 3.2 5.7 2.3 'Iris-virginica']\n [5.6 2.8 4.9 2.0 'Iris-virginica']\n [7.7 2.8 6.7 2.0 'Iris-virginica']\n [6.3 2.7 4.9 1.8 'Iris-virginica']\n [6.7 3.3 5.7 2.1 'Iris-virginica']\n [7.2 3.2 6.0 1.8 'Iris-virginica']\n [6.2 2.8 4.8 1.8 'Iris-virginica']\n [6.1 3.0 4.9 1.8 'Iris-virginica']\n [6.4 2.8 5.6 2.1 'Iris-virginica']\n [7.2 3.0 5.8 1.6 'Iris-virginica']\n [7.4 2.8 6.1 1.9 'Iris-virginica']\n [7.9 3.8 6.4 2.0 'Iris-virginica']\n [6.4 2.8 5.6 2.2 'Iris-virginica']\n [6.3 2.8 5.1 1.5 'Iris-virginica']\n [6.1 2.6 5.6 1.4 'Iris-virginica']\n [7.7 3.0 6.1 2.3 'Iris-virginica']\n [6.3 3.4 5.6 2.4 'Iris-virginica']\n [6.4 3.1 5.5 1.8 'Iris-virginica']\n [6.0 3.0 4.8 1.8 'Iris-virginica']\n [6.9 3.1 5.4 2.1 'Iris-virginica']\n [6.7 3.1 5.6 2.4 'Iris-virginica']\n [6.9 3.1 5.1 2.3 'Iris-virginica']\n [5.8 2.7 5.1 1.9 'Iris-virginica']\n [6.8 3.2 5.9 2.3 'Iris-virginica']\n [6.7 3.3 5.7 2.5 'Iris-virginica']\n [6.7 3.0 5.2 2.3 'Iris-virginica']\n [6.3 2.5 5.0 1.9 'Iris-virginica']\n [6.5 3.0 5.2 2.0 'Iris-virginica']\n [6.2 3.4 5.4 2.3 'Iris-virginica']\n [5.9 3.0 5.1 1.8 'Iris-virginica']]\n\nInput x:\n\n [[5.1 3.5 1.4 0.2]\n [4.9 3.0 1.4 0.2]\n [4.7 3.2 1.3 0.2]\n [4.6 3.1 1.5 0.2]\n [5.0 3.6 1.4 0.2]\n [5.4 3.9 1.7 0.4]\n [4.6 3.4 1.4 0.3]\n [5.0 3.4 1.5 0.2]\n [4.4 2.9 1.4 0.2]\n [4.9 3.1 1.5 0.1]\n [5.4 3.7 1.5 0.2]\n [4.8 3.4 1.6 0.2]\n [4.8 3.0 1.4 0.1]\n [4.3 3.0 1.1 0.1]\n [5.8 4.0 1.2 0.2]\n [5.7 4.4 1.5 0.4]\n [5.4 3.9 1.3 0.4]\n [5.1 3.5 1.4 0.3]\n [5.7 3.8 1.7 0.3]\n [5.1 3.8 1.5 0.3]\n [5.4 3.4 1.7 0.2]\n [5.1 3.7 1.5 0.4]\n [4.6 3.6 1.0 0.2]\n [5.1 3.3 1.7 0.5]\n [4.8 3.4 1.9 0.2]\n [5.0 3.0 1.6 0.2]\n [5.0 3.4 1.6 0.4]\n [5.2 3.5 1.5 0.2]\n [5.2 3.4 4.4 0.2]\n [4.7 3.2 1.6 0.2]\n [4.8 3.1 1.6 0.2]\n [5.4 3.4 1.5 0.4]\n [5.2 4.1 1.5 0.1]\n [5.5 4.2 1.4 0.2]\n [4.9 3.1 1.5 0.1]\n [5.0 3.2 1.2 0.2]\n [5.5 3.5 1.3 0.2]\n [4.9 3.1 1.5 0.1]\n [4.4 3.0 1.3 0.2]\n [5.1 3.4 1.5 0.2]\n [5.0 3.5 4.4 0.3]\n [4.5 2.3 1.3 0.3]\n [4.4 3.2 1.3 0.2]\n [5.0 3.5 1.6 0.6]\n [5.1 3.8 1.9 0.4]\n [4.8 3.0 1.4 0.3]\n [5.1 3.8 1.6 0.2]\n [4.6 3.2 1.4 0.2]\n [5.3 3.7 1.5 0.2]\n [5.0 3.3 1.4 0.2]\n [7.0 3.0 4.7 1.4]\n [6.4 3.2 4.5 1.5]\n [6.9 3.1 4.9 1.5]\n [5.5 2.3 4.0 1.3]\n [6.5 2.8 4.6 1.5]\n [5.7 2.8 4.5 1.3]\n [6.3 3.3 4.7 1.6]\n [4.9 2.4 3.3 1.0]\n [6.6 2.9 4.6 1.3]\n [5.2 2.7 3.9 1.4]\n [5.0 2.0 3.5 1.0]\n [5.9 3.0 4.2 1.5]\n [6.0 2.2 4.0 1.0]\n [6.1 2.9 4.7 1.4]\n [5.6 2.9 3.6 1.3]\n [6.7 3.1 4.4 1.4]\n [5.6 3.0 4.5 1.5]\n [5.8 2.7 4.1 1.0]\n [6.2 2.2 4.5 1.5]\n [5.6 2.5 3.9 1.1]\n [5.9 3.2 4.8 1.8]\n [6.1 2.8 4.0 1.3]\n [6.3 2.5 4.9 1.5]\n [6.1 2.8 4.7 1.2]\n [6.4 2.9 4.3 1.3]\n [6.6 3.0 4.4 1.4]\n [6.8 2.8 4.8 1.4]\n [6.7 3.0 5.0 1.7]\n [6.0 2.9 4.5 1.5]\n [5.7 2.6 3.5 1.0]\n [5.5 2.4 3.8 1.1]\n [5.5 2.4 3.7 1.0]\n [5.8 2.7 3.9 1.2]\n [6.0 2.7 5.1 1.6]\n [5.4 3.0 4.5 1.5]\n [6.0 3.4 4.5 1.6]\n [6.7 3.1 4.7 1.5]\n [6.3 2.3 4.4 1.3]\n [5.6 3.0 4.1 1.3]\n [5.5 2.5 4.0 1.3]\n [5.5 2.6 4.4 1.2]\n [6.1 3.0 4.6 1.4]\n [5.8 2.6 4.0 1.2]\n [5.0 2.3 3.3 1.0]\n [5.6 2.7 4.2 1.3]\n [5.7 3.0 4.2 1.2]\n [5.7 2.9 4.2 1.3]\n [6.2 2.9 4.3 1.3]\n [5.1 2.5 3.0 1.1]\n [5.7 2.8 4.1 1.3]\n [6.3 3.3 6.0 2.5]\n [5.8 2.7 5.1 1.9]\n [7.1 3.0 5.9 2.1]\n [6.3 2.9 5.6 1.8]\n [6.5 3.0 5.8 2.2]\n [7.6 3.0 6.6 2.1]\n [4.9 2.5 4.5 1.7]\n [7.3 2.9 6.3 1.8]\n [6.7 2.5 5.8 1.8]\n [7.2 3.6 6.1 2.5]\n [6.5 3.2 5.1 2.0]\n [6.4 2.7 5.3 1.9]\n [6.8 3.0 5.5 2.1]\n [5.7 2.5 5.0 2.0]\n [5.8 2.8 5.1 2.4]\n [6.4 3.2 5.3 2.3]\n [6.5 3.0 5.5 1.8]\n [7.7 3.8 6.7 2.2]\n [7.7 2.6 6.9 2.3]\n [6.0 2.2 5.0 1.5]\n [6.9 3.2 5.7 2.3]\n [5.6 2.8 4.9 2.0]\n [7.7 2.8 6.7 2.0]\n [6.3 2.7 4.9 1.8]\n [6.7 3.3 5.7 2.1]\n [7.2 3.2 6.0 1.8]\n [6.2 2.8 4.8 1.8]\n [6.1 3.0 4.9 1.8]\n [6.4 2.8 5.6 2.1]\n [7.2 3.0 5.8 1.6]\n [7.4 2.8 6.1 1.9]\n [7.9 3.8 6.4 2.0]\n [6.4 2.8 5.6 2.2]\n [6.3 2.8 5.1 1.5]\n [6.1 2.6 5.6 1.4]\n [7.7 3.0 6.1 2.3]\n [6.3 3.4 5.6 2.4]\n [6.4 3.1 5.5 1.8]\n [6.0 3.0 4.8 1.8]\n [6.9 3.1 5.4 2.1]\n [6.7 3.1 5.6 2.4]\n [6.9 3.1 5.1 2.3]\n [5.8 2.7 5.1 1.9]\n [6.8 3.2 5.9 2.3]\n [6.7 3.3 5.7 2.5]\n [6.7 3.0 5.2 2.3]\n [6.3 2.5 5.0 1.9]\n [6.5 3.0 5.2 2.0]\n [6.2 3.4 5.4 2.3]\n [5.9 3.0 5.1 1.8]]\n\nOutput y:\n\n ['Iris-setosa' 'Iris-setosa' 'Iris-setosa' 'Iris-setosa' 'Iris-setosa'\n 'Iris-setosa' 'Iris-setosa' 'Iris-setosa' 'Iris-setosa' 'Iris-setosa'\n 'Iris-setosa' 'Iris-setosa' 'Iris-setosa' 'Iris-setosa' 'Iris-setosa'\n 'Iris-setosa' 'Iris-setosa' 'Iris-setosa' 'Iris-setosa' 'Iris-setosa'\n 'Iris-setosa' 'Iris-setosa' 'Iris-setosa' 'Iris-setosa' 'Iris-setosa'\n 'Iris-setosa' 'Iris-setosa' 'Iris-setosa' 'Iris-setosa' 'Iris-setosa'\n 'Iris-setosa' 'Iris-setosa' 'Iris-setosa' 'Iris-setosa' 'Iris-setosa'\n 'Iris-setosa' 'Iris-setosa' 'Iris-setosa' 'Iris-setosa' 'Iris-setosa'\n 'Iris-setosa' 'Iris-setosa' 'Iris-setosa' 'Iris-setosa' 'Iris-setosa'\n 'Iris-setosa' 'Iris-setosa' 'Iris-setosa' 'Iris-setosa' 'Iris-setosa'\n 'Iris-versicolor' 'Iris-versicolor' 'Iris-versicolor' 'Iris-versicolor'\n 'Iris-versicolor' 'Iris-versicolor' 'Iris-versicolor' 'Iris-versicolor'\n 'Iris-versicolor' 'Iris-versicolor' 'Iris-versicolor' 'Iris-versicolor'\n 'Iris-versicolor' 'Iris-versicolor' 'Iris-versicolor' 'Iris-versicolor'\n 'Iris-versicolor' 'Iris-versicolor' 'Iris-versicolor' 'Iris-versicolor'\n 'Iris-versicolor' 'Iris-versicolor' 'Iris-versicolor' 'Iris-versicolor'\n 'Iris-versicolor' 'Iris-versicolor' 'Iris-versicolor' 'Iris-versicolor'\n 'Iris-versicolor' 'Iris-versicolor' 'Iris-versicolor' 'Iris-versicolor'\n 'Iris-versicolor' 'Iris-versicolor' 'Iris-versicolor' 'Iris-versicolor'\n 'Iris-versicolor' 'Iris-versicolor' 'Iris-versicolor' 'Iris-versicolor'\n 'Iris-versicolor' 'Iris-versicolor' 'Iris-versicolor' 'Iris-versicolor'\n 'Iris-versicolor' 'Iris-versicolor' 'Iris-versicolor' 'Iris-versicolor'\n 'Iris-versicolor' 'Iris-versicolor' 'Iris-virginica' 'Iris-virginica'\n 'Iris-virginica' 'Iris-virginica' 'Iris-virginica' 'Iris-virginica'\n 'Iris-virginica' 'Iris-virginica' 'Iris-virginica' 'Iris-virginica'\n 'Iris-virginica' 'Iris-virginica' 'Iris-virginica' 'Iris-virginica'\n 'Iris-virginica' 'Iris-virginica' 'Iris-virginica' 'Iris-virginica'\n 'Iris-virginica' 'Iris-virginica' 'Iris-virginica' 'Iris-virginica'\n 'Iris-virginica' 'Iris-virginica' 'Iris-virginica' 'Iris-virginica'\n 'Iris-virginica' 'Iris-virginica' 'Iris-virginica' 'Iris-virginica'\n 'Iris-virginica' 'Iris-virginica' 'Iris-virginica' 'Iris-virginica'\n 'Iris-virginica' 'Iris-virginica' 'Iris-virginica' 'Iris-virginica'\n 'Iris-virginica' 'Iris-virginica' 'Iris-virginica' 'Iris-virginica'\n 'Iris-virginica' 'Iris-virginica' 'Iris-virginica' 'Iris-virginica'\n 'Iris-virginica' 'Iris-virginica' 'Iris-virginica' 'Iris-virginica']\n",
                    "name": "stdout"
                }
            ]
        },
        {
            "metadata": {},
            "cell_type": "code",
            "source": "# STEP 2: We have to train the model by splitting the array into training and testing variables\n# One can test 70% and train 30% or 60% testing and 40% training\n# import macjine learning library for python which is sklearn\n# my choice is 67% training and 33% testing\n# 42 is usually used for random numbers it has a deep meaning lol\n\nimport sklearn\nfrom sklearn import model_selection\nx_train, x_test, y_train, y_test = model_selection.train_test_split(x, y, test_size = 0.33, random_state = 42)\nprint('Data array shape:', data_array.shape, '\\nx_train shape:', x_train.shape, '\\nx_test shape:', x_test.shape, '\\ny_train shape:', y_train.shape, '\\ny_test shape:', y_test.shape)\n\n# STEP 3: We can use logistic regression to TRAIN because it\n# is designed for this purpose (classification), and is most useful for understanding the \n# influence of several independent variables on a single outcome variable.\n# import logisticregression library\n# also need to remove solver warning by import warning library\n\nimport warnings\nwarnings.filterwarnings('ignore', category = FutureWarning)\n\n\nfrom sklearn.linear_model import LogisticRegression\nlr = LogisticRegression()\nlr.fit(x_train, y_train)\nprint('\\n\\nUsing Logistic Regression pipeline, model is training...')\n\n# STEP 5: TEST the model\n# the goal was to predict the classification of flowers so we will test the x_test and not y_test\n\ny_prediction = lr.predict(x_test)\n\n# STEP 6: ACCURACY of the model\n# import accuracy model library\n\nfrom sklearn.metrics import accuracy_score\nprint('\\n\\nAccuracy of logistic regression model:',accuracy_score(y_test, y_prediction))\n\n# STEP 7 : Get input from user to predict class of flower\n# create empty dictionary and prompt user for variables of unknown flower\nx_new = {}\nprint('\\nPlease use the following format for prompted input: e.g. \\nsepallength: 2.3 \\nsepalwidth: 1.0 \\npetallength: 2.5 \\npetalwidth: 2.9\\n')\n# get the no. of elements of input to know shape of array\nfor i in range(4):\n    # split inputs to key and variable\n    element = input('Input variables of unknown flower: ').split()\n    # add new element to dictionary\n    # assign first item to key and second item to value of the dictionary\n    x_new[element[0]] = element[1]\n    \nprint('\\n\\nDictionary of unknown flower:\\n', x_new)\n\n# convert string type to float type for every value in the dictionary\nfor key, value in x_new.items():\n    x_new[key] = float(value)\nprint('\\nValue of dictionary converted to float type:\\n',x_new)\n\n# STEP 8: PREDICT from user's input\n# extract values from dictionary created and create list from which the function will predict from...\n\nx_newvariables = list(x_new.values())\nprint('\\nExtracted list of unknown flower variables: ',x_newvariables)\n# newprediction = lr.predict([[1.5,2.5,3.6,2.2]])\nnewflower_prediction = lr.predict([x_newvariables])\nprint('\\n\\nFlower prediction is: ', newflower_prediction)",
            "execution_count": null,
            "outputs": [
                {
                    "output_type": "stream",
                    "text": "Data array shape: (150, 5) \nx_train shape: (100, 4) \nx_test shape: (50, 4) \ny_train shape: (100,) \ny_test shape: (50,)\n\n\nUsing Logistic Regression pipeline, model is training...\n\n\nAccuracy of logistic regression model: 1.0\n\nPlease use the following format for prompted input: e.g. \nsepallength: 2.3 \nsepalwidth: 1.0 \npetallength: 2.5 \npetalwidth: 2.9\n\nInput variables of unknown flower: sepallength: 6.2\nInput variables of unknown flower: sepalwidth: 3.2\nInput variables of unknown flower: petallength: 5.9\n",
                    "name": "stdout"
                }
            ]
        }
    ],
    "metadata": {
        "kernelspec": {
            "name": "python3",
            "display_name": "Python 3.6",
            "language": "python"
        },
        "language_info": {
            "name": "python",
            "version": "3.6.9",
            "mimetype": "text/x-python",
            "codemirror_mode": {
                "name": "ipython",
                "version": 3
            },
            "pygments_lexer": "ipython3",
            "nbconvert_exporter": "python",
            "file_extension": ".py"
        }
    },
    "nbformat": 4,
    "nbformat_minor": 1
}