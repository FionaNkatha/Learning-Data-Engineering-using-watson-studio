{
    "cells": [
        {
            "cell_type": "code",
            "execution_count": 1,
            "metadata": {},
            "outputs": [
                {
                    "name": "stdout",
                    "output_type": "stream",
                    "text": "AIRLINE RECORDS:\n"
                },
                {
                    "data": {
                        "text/html": "<div>\n<style scoped>\n    .dataframe tbody tr th:only-of-type {\n        vertical-align: middle;\n    }\n\n    .dataframe tbody tr th {\n        vertical-align: top;\n    }\n\n    .dataframe thead th {\n        text-align: right;\n    }\n</style>\n<table border=\"1\" class=\"dataframe\">\n  <thead>\n    <tr style=\"text-align: right;\">\n      <th></th>\n      <th>Balance</th>\n      <th>QualMiles</th>\n      <th>BonusMiles</th>\n      <th>BonusTrans</th>\n      <th>FlightMiles</th>\n      <th>FlightTrans</th>\n      <th>DaysSinceEnroll</th>\n    </tr>\n  </thead>\n  <tbody>\n    <tr>\n      <th>0</th>\n      <td>28143</td>\n      <td>0</td>\n      <td>174</td>\n      <td>1</td>\n      <td>0</td>\n      <td>0</td>\n      <td>7000</td>\n    </tr>\n    <tr>\n      <th>1</th>\n      <td>19244</td>\n      <td>0</td>\n      <td>215</td>\n      <td>2</td>\n      <td>0</td>\n      <td>0</td>\n      <td>6968</td>\n    </tr>\n    <tr>\n      <th>2</th>\n      <td>41354</td>\n      <td>0</td>\n      <td>4123</td>\n      <td>4</td>\n      <td>0</td>\n      <td>0</td>\n      <td>7034</td>\n    </tr>\n    <tr>\n      <th>3</th>\n      <td>14776</td>\n      <td>0</td>\n      <td>500</td>\n      <td>1</td>\n      <td>0</td>\n      <td>0</td>\n      <td>6952</td>\n    </tr>\n    <tr>\n      <th>4</th>\n      <td>97752</td>\n      <td>0</td>\n      <td>43300</td>\n      <td>26</td>\n      <td>2077</td>\n      <td>4</td>\n      <td>6935</td>\n    </tr>\n    <tr>\n      <th>...</th>\n      <td>...</td>\n      <td>...</td>\n      <td>...</td>\n      <td>...</td>\n      <td>...</td>\n      <td>...</td>\n      <td>...</td>\n    </tr>\n    <tr>\n      <th>3994</th>\n      <td>18476</td>\n      <td>0</td>\n      <td>8525</td>\n      <td>4</td>\n      <td>200</td>\n      <td>1</td>\n      <td>1403</td>\n    </tr>\n    <tr>\n      <th>3995</th>\n      <td>64385</td>\n      <td>0</td>\n      <td>981</td>\n      <td>5</td>\n      <td>0</td>\n      <td>0</td>\n      <td>1395</td>\n    </tr>\n    <tr>\n      <th>3996</th>\n      <td>73597</td>\n      <td>0</td>\n      <td>25447</td>\n      <td>8</td>\n      <td>0</td>\n      <td>0</td>\n      <td>1402</td>\n    </tr>\n    <tr>\n      <th>3997</th>\n      <td>54899</td>\n      <td>0</td>\n      <td>500</td>\n      <td>1</td>\n      <td>500</td>\n      <td>1</td>\n      <td>1401</td>\n    </tr>\n    <tr>\n      <th>3998</th>\n      <td>3016</td>\n      <td>0</td>\n      <td>0</td>\n      <td>0</td>\n      <td>0</td>\n      <td>0</td>\n      <td>1398</td>\n    </tr>\n  </tbody>\n</table>\n<p>3999 rows \u00d7 7 columns</p>\n</div>",
                        "text/plain": "      Balance  QualMiles  BonusMiles  BonusTrans  FlightMiles  FlightTrans  \\\n0       28143          0         174           1            0            0   \n1       19244          0         215           2            0            0   \n2       41354          0        4123           4            0            0   \n3       14776          0         500           1            0            0   \n4       97752          0       43300          26         2077            4   \n...       ...        ...         ...         ...          ...          ...   \n3994    18476          0        8525           4          200            1   \n3995    64385          0         981           5            0            0   \n3996    73597          0       25447           8            0            0   \n3997    54899          0         500           1          500            1   \n3998     3016          0           0           0            0            0   \n\n      DaysSinceEnroll  \n0                7000  \n1                6968  \n2                7034  \n3                6952  \n4                6935  \n...               ...  \n3994             1403  \n3995             1395  \n3996             1402  \n3997             1401  \n3998             1398  \n\n[3999 rows x 7 columns]"
                    },
                    "execution_count": 1,
                    "metadata": {},
                    "output_type": "execute_result"
                }
            ],
            "source": "# SUPERVISED MACHINE LEARNING\n# Supervised learning is where you have input variables (x) and an output variable (Y) and you use an algorithm to learn \n# the mapping function from the input to the output. Y = f(X) The goal is to approximate the mapping function \n# so well that when you have new input data (x) that you can predict the output variables (Y) for that data.\n# It is called supervised learning because the process of an algorithm learning from the training dataset can be \n# thought of as a teacher supervising the learning process.\n# We know the correct answers, the algorithm iteratively makes predictions on the training data and is corrected by the teacher. \n# Learning stops when the algorithm achieves an acceptable level of performance.\n\n# Supervised learning problems can be further grouped into regression and classification problems.\n# Classification: A classification problem is when the output variable is a category, such as \u201cred\u201d or \u201cblue\u201d or \u201cdisease\u201d and \u201cno disease\u201d.\n# Regression: A regression problem is when the output variable is a real value, such as \u201cdollars\u201d or \u201cweight\u201d.\n\n# Some popular examples of supervised machine learning algorithms are:\n# Linear regression for regression problems.\n# Random forest for classification and regression problems.\n# Support vector machines for classification problems.\n\n\n# UNSUPERVISED MACHINE LEARNING\n# Unsupervised learning is where you only have input data (X) and no corresponding output variables.\n# The goal for unsupervised learning is to model the underlying structure or distribution in the data in order to learn more about \n# the data.These are called unsupervised learning because unlike supervised learning above there is no correct answers and there is \n# no teacher. Algorithms are left to their own devises to discover and present the interesting structure in the data.\n\n# Unsupervised learning problems can be further grouped into clustering and association problems.\n# Clustering: A clustering problem is where you want to discover the inherent groupings in the data, such as grouping customers by purchasing behavior.\n# Association:  An association rule learning problem is where you want to discover rules that describe large portions of your data, such as people that buy X also tend to buy Y.\n\n# Some popular examples of unsupervised learning algorithms are:\n# k-means for clustering problems.\n# Apriori algorithm for association rule learning problems\n\n# SEMI-SUPERVISED MACHINE LEARNING\n# Problems where you have a large amount of input data (X) and only some of the data is labeled (Y) are \n# called semi-supervised learning problems.These problems sit in between both supervised and unsupervised learning.\n# A good example is a photo archive where only some of the images are labeled, (e.g. dog, cat, person) and the majority are unlabeled.\n# Many real world machine learning problems fall into this area. This is because it can be expensive or time-consuming to label data as it may \n# require access to domain experts. unlabeled data is cheap and easy to collect and store.\n\n# LEARNING \"UNSUPERVISED MACHINE LEARNING\"\nimport pandas\nairlines = pandas.read_csv('https://modcom.co.ke/datascience/datasets/AirlinesCluster.csv')\nprint('AIRLINE RECORDS:')\nairlines"
        },
        {
            "cell_type": "code",
            "execution_count": 2,
            "metadata": {},
            "outputs": [
                {
                    "name": "stdout",
                    "output_type": "stream",
                    "text": "Clustered Airline Records,\n\n"
                },
                {
                    "data": {
                        "text/html": "<div>\n<style scoped>\n    .dataframe tbody tr th:only-of-type {\n        vertical-align: middle;\n    }\n\n    .dataframe tbody tr th {\n        vertical-align: top;\n    }\n\n    .dataframe thead th {\n        text-align: right;\n    }\n</style>\n<table border=\"1\" class=\"dataframe\">\n  <thead>\n    <tr style=\"text-align: right;\">\n      <th></th>\n      <th>Balance</th>\n      <th>QualMiles</th>\n      <th>BonusMiles</th>\n      <th>BonusTrans</th>\n      <th>FlightMiles</th>\n      <th>FlightTrans</th>\n      <th>DaysSinceEnroll</th>\n    </tr>\n  </thead>\n  <tbody>\n    <tr>\n      <th>0</th>\n      <td>98676.407692</td>\n      <td>161.841346</td>\n      <td>28020.831731</td>\n      <td>15.434615</td>\n      <td>625.858654</td>\n      <td>1.817308</td>\n      <td>4538.998077</td>\n    </tr>\n    <tr>\n      <th>1</th>\n      <td>208649.635294</td>\n      <td>309.826471</td>\n      <td>35481.944118</td>\n      <td>18.217647</td>\n      <td>1055.564706</td>\n      <td>2.950000</td>\n      <td>5038.200000</td>\n    </tr>\n    <tr>\n      <th>2</th>\n      <td>26389.023885</td>\n      <td>100.450239</td>\n      <td>8702.592357</td>\n      <td>8.756768</td>\n      <td>262.252389</td>\n      <td>0.811306</td>\n      <td>3736.939490</td>\n    </tr>\n    <tr>\n      <th>3</th>\n      <td>922162.526316</td>\n      <td>564.736842</td>\n      <td>58492.052632</td>\n      <td>20.894737</td>\n      <td>1607.526316</td>\n      <td>6.263158</td>\n      <td>6642.315789</td>\n    </tr>\n    <tr>\n      <th>4</th>\n      <td>419966.511364</td>\n      <td>449.965909</td>\n      <td>49823.329545</td>\n      <td>19.954545</td>\n      <td>1598.375000</td>\n      <td>5.034091</td>\n      <td>5945.193182</td>\n    </tr>\n  </tbody>\n</table>\n</div>",
                        "text/plain": "         Balance   QualMiles    BonusMiles  BonusTrans  FlightMiles  \\\n0   98676.407692  161.841346  28020.831731   15.434615   625.858654   \n1  208649.635294  309.826471  35481.944118   18.217647  1055.564706   \n2   26389.023885  100.450239   8702.592357    8.756768   262.252389   \n3  922162.526316  564.736842  58492.052632   20.894737  1607.526316   \n4  419966.511364  449.965909  49823.329545   19.954545  1598.375000   \n\n   FlightTrans  DaysSinceEnroll  \n0     1.817308      4538.998077  \n1     2.950000      5038.200000  \n2     0.811306      3736.939490  \n3     6.263158      6642.315789  \n4     5.034091      5945.193182  "
                    },
                    "execution_count": 2,
                    "metadata": {},
                    "output_type": "execute_result"
                }
            ],
            "source": "# STEP 1: Convert data\narray = airlines.values #gets data into an array format to allow splitting\nx = array[:, 0:7] #selects up to row six, start count from 0\n\n#STEP 2: Cluster data\nfrom sklearn.cluster import KMeans\nmodel = KMeans(n_clusters = 5)\nmodel.fit(x)\n\n#STEP 3: Show clusters\nmeans = model.cluster_centers_\nclusters = pandas.DataFrame(means, columns = ['Balance', 'QualMiles', 'BonusMiles', 'BonusTrans', \n                                              'FlightMiles', 'FlightTrans', 'DaysSinceEnroll'])\nprint('Clustered Airline Records,\\n')\nclusters"
        }
    ],
    "metadata": {
        "kernelspec": {
            "display_name": "Python 3.7",
            "language": "python",
            "name": "python3"
        },
        "language_info": {
            "codemirror_mode": {
                "name": "ipython",
                "version": 3
            },
            "file_extension": ".py",
            "mimetype": "text/x-python",
            "name": "python",
            "nbconvert_exporter": "python",
            "pygments_lexer": "ipython3",
            "version": "3.7.9"
        }
    },
    "nbformat": 4,
    "nbformat_minor": 1
}