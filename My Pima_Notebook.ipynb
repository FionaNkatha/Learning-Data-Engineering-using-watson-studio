{
    "cells": [
        {
            "cell_type": "code",
            "execution_count": 37,
            "metadata": {},
            "outputs": [
                {
                    "name": "stdout",
                    "output_type": "stream",
                    "text": "PIMA INDIANS DATA:\n\n      Pregnancies  Glucose  BloodPressure  SkinThickness  Insulin   BMI  \\\n0              6      148             72             35        0  33.6   \n1              1       85             66             29        0  26.6   \n2              8      183             64              0        0  23.3   \n3              1       89             66             23       94  28.1   \n4              0      137             40             35      168  43.1   \n5              5      116             74              0        0  25.6   \n6              3       78             50             32       88  31.0   \n7             10      115              0              0        0  35.3   \n8              2      197             70             45      543  30.5   \n9              8      125             96              0        0   0.0   \n10             4      110             92              0        0  37.6   \n11            10      168             74              0        0  38.0   \n12            10      139             80              0        0  27.1   \n13             1      189             60             23      846  30.1   \n14             5      166             72             19      175  25.8   \n15             7      100              0              0        0  30.0   \n16             0      118             84             47      230  45.8   \n17             7      107             74              0        0  29.6   \n18             1      103             30             38       83  43.3   \n19             1      115             70             30       96  34.6   \n20             3      126             88             41      235  39.3   \n21             8       99             84              0        0  35.4   \n22             7      196             90              0        0  39.8   \n23             9      119             80             35        0  29.0   \n24            11      143             94             33      146  36.6   \n25            10      125             70             26      115  31.1   \n26             7      147             76              0        0  39.4   \n27             1       97             66             15      140  23.2   \n28            13      145             82             19      110  22.2   \n29             5      117             92              0        0  34.1   \n..           ...      ...            ...            ...      ...   ...   \n738            2       99             60             17      160  36.6   \n739            1      102             74              0        0  39.5   \n740           11      120             80             37      150  42.3   \n741            3      102             44             20       94  30.8   \n742            1      109             58             18      116  28.5   \n743            9      140             94              0        0  32.7   \n744           13      153             88             37      140  40.6   \n745           12      100             84             33      105  30.0   \n746            1      147             94             41        0  49.3   \n747            1       81             74             41       57  46.3   \n748            3      187             70             22      200  36.4   \n749            6      162             62              0        0  24.3   \n750            4      136             70              0        0  31.2   \n751            1      121             78             39       74  39.0   \n752            3      108             62             24        0  26.0   \n753            0      181             88             44      510  43.3   \n754            8      154             78             32        0  32.4   \n755            1      128             88             39      110  36.5   \n756            7      137             90             41        0  32.0   \n757            0      123             72              0        0  36.3   \n758            1      106             76              0        0  37.5   \n759            6      190             92              0        0  35.5   \n760            2       88             58             26       16  28.4   \n761            9      170             74             31        0  44.0   \n762            9       89             62              0        0  22.5   \n763           10      101             76             48      180  32.9   \n764            2      122             70             27        0  36.8   \n765            5      121             72             23      112  26.2   \n766            1      126             60              0        0  30.1   \n767            1       93             70             31        0  30.4   \n\n     DiabetesPedigreeFunction  Age  Outcome  \n0                       0.627   50        1  \n1                       0.351   31        0  \n2                       0.672   32        1  \n3                       0.167   21        0  \n4                       2.288   33        1  \n5                       0.201   30        0  \n6                       0.248   26        1  \n7                       0.134   29        0  \n8                       0.158   53        1  \n9                       0.232   54        1  \n10                      0.191   30        0  \n11                      0.537   34        1  \n12                      1.441   57        0  \n13                      0.398   59        1  \n14                      0.587   51        1  \n15                      0.484   32        1  \n16                      0.551   31        1  \n17                      0.254   31        1  \n18                      0.183   33        0  \n19                      0.529   32        1  \n20                      0.704   27        0  \n21                      0.388   50        0  \n22                      0.451   41        1  \n23                      0.263   29        1  \n24                      0.254   51        1  \n25                      0.205   41        1  \n26                      0.257   43        1  \n27                      0.487   22        0  \n28                      0.245   57        0  \n29                      0.337   38        0  \n..                        ...  ...      ...  \n738                     0.453   21        0  \n739                     0.293   42        1  \n740                     0.785   48        1  \n741                     0.400   26        0  \n742                     0.219   22        0  \n743                     0.734   45        1  \n744                     1.174   39        0  \n745                     0.488   46        0  \n746                     0.358   27        1  \n747                     1.096   32        0  \n748                     0.408   36        1  \n749                     0.178   50        1  \n750                     1.182   22        1  \n751                     0.261   28        0  \n752                     0.223   25        0  \n753                     0.222   26        1  \n754                     0.443   45        1  \n755                     1.057   37        1  \n756                     0.391   39        0  \n757                     0.258   52        1  \n758                     0.197   26        0  \n759                     0.278   66        1  \n760                     0.766   22        0  \n761                     0.403   43        1  \n762                     0.142   33        0  \n763                     0.171   63        0  \n764                     0.340   27        0  \n765                     0.245   30        0  \n766                     0.349   47        1  \n767                     0.315   23        0  \n\n[768 rows x 9 columns]\n"
                }
            ],
            "source": "# methodology on creating a machine learning program that will predict the diabetes outcome given all the features\n# use pandas to help describe the data\n# shows no. of rows and columns at the end... i.e. the data shape\n\nimport pandas\npima_data = pandas.read_csv('https://modcom.co.ke/data/datasets/pima.csv')\nprint('PIMA INDIANS DATA:\\n\\n',pima_data)"
        },
        {
            "cell_type": "code",
            "execution_count": 38,
            "metadata": {},
            "outputs": [
                {
                    "name": "stdout",
                    "output_type": "stream",
                    "text": "       Pregnancies     Glucose  BloodPressure  SkinThickness     Insulin  \\\ncount   768.000000  768.000000     768.000000     768.000000  768.000000   \nmean      3.845052  120.894531      69.105469      20.536458   79.799479   \nstd       3.369578   31.972618      19.355807      15.952218  115.244002   \nmin       0.000000    0.000000       0.000000       0.000000    0.000000   \n25%       1.000000   99.000000      62.000000       0.000000    0.000000   \n50%       3.000000  117.000000      72.000000      23.000000   30.500000   \n75%       6.000000  140.250000      80.000000      32.000000  127.250000   \nmax      17.000000  199.000000     122.000000      99.000000  846.000000   \n\n              BMI  DiabetesPedigreeFunction         Age     Outcome  \ncount  768.000000                768.000000  768.000000  768.000000  \nmean    31.992578                  0.471876   33.240885    0.348958  \nstd      7.884160                  0.331329   11.760232    0.476951  \nmin      0.000000                  0.078000   21.000000    0.000000  \n25%     27.300000                  0.243750   24.000000    0.000000  \n50%     32.000000                  0.372500   29.000000    0.000000  \n75%     36.600000                  0.626250   41.000000    1.000000  \nmax     67.100000                  2.420000   81.000000    1.000000  \n"
                }
            ],
            "source": "# describe the data\n\nprint(pima_data.describe())"
        },
        {
            "cell_type": "code",
            "execution_count": 39,
            "metadata": {},
            "outputs": [
                {
                    "name": "stdout",
                    "output_type": "stream",
                    "text": "Pregnancies                 0\nGlucose                     0\nBloodPressure               0\nSkinThickness               0\nInsulin                     0\nBMI                         0\nDiabetesPedigreeFunction    0\nAge                         0\nOutcome                     0\ndtype: int64\n"
                }
            ],
            "source": "# from describe function we see that all columns are available therefore no need to manipulate data\n# we therefore look for null data using isnull function\n\nprint(pima_data.isnull().sum())"
        },
        {
            "cell_type": "code",
            "execution_count": 40,
            "metadata": {},
            "outputs": [
                {
                    "name": "stdout",
                    "output_type": "stream",
                    "text": "Pima Indians data in form of an array:\n\n [[  6.    148.     72.    ...   0.627  50.      1.   ]\n [  1.     85.     66.    ...   0.351  31.      0.   ]\n [  8.    183.     64.    ...   0.672  32.      1.   ]\n ...\n [  5.    121.     72.    ...   0.245  30.      0.   ]\n [  1.    126.     60.    ...   0.349  47.      1.   ]\n [  1.     93.     70.    ...   0.315  23.      0.   ]]\nInputs to predict outcome:\n\n [[  6.    148.     72.    ...  33.6     0.627  50.   ]\n [  1.     85.     66.    ...  26.6     0.351  31.   ]\n [  8.    183.     64.    ...  23.3     0.672  32.   ]\n ...\n [  5.    121.     72.    ...  26.2     0.245  30.   ]\n [  1.    126.     60.    ...  30.1     0.349  47.   ]\n [  1.     93.     70.    ...  30.4     0.315  23.   ]]\nOutput showing the outcome of the prediction:\n\n [1. 0. 1. 0. 1. 0. 1. 0. 1. 1. 0. 1. 0. 1. 1. 1. 1. 1. 0. 1. 0. 0. 1. 1.\n 1. 1. 1. 0. 0. 0. 0. 1. 0. 0. 0. 0. 0. 1. 1. 1. 0. 0. 0. 1. 0. 1. 0. 0.\n 1. 0. 0. 0. 0. 1. 0. 0. 1. 0. 0. 0. 0. 1. 0. 0. 1. 0. 1. 0. 0. 0. 1. 0.\n 1. 0. 0. 0. 0. 0. 1. 0. 0. 0. 0. 0. 1. 0. 0. 0. 1. 0. 0. 0. 0. 1. 0. 0.\n 0. 0. 0. 1. 1. 0. 0. 0. 0. 0. 0. 0. 0. 1. 1. 1. 0. 0. 1. 1. 1. 0. 0. 0.\n 1. 0. 0. 0. 1. 1. 0. 0. 1. 1. 1. 1. 1. 0. 0. 0. 0. 0. 0. 0. 0. 0. 0. 1.\n 0. 0. 0. 0. 0. 0. 0. 0. 1. 0. 1. 1. 0. 0. 0. 1. 0. 0. 0. 0. 1. 1. 0. 0.\n 0. 0. 1. 1. 0. 0. 0. 1. 0. 1. 0. 1. 0. 0. 0. 0. 0. 1. 1. 1. 1. 1. 0. 0.\n 1. 1. 0. 1. 0. 1. 1. 1. 0. 0. 0. 0. 0. 0. 1. 1. 0. 1. 0. 0. 0. 1. 1. 1.\n 1. 0. 1. 1. 1. 1. 0. 0. 0. 0. 0. 1. 0. 0. 1. 1. 0. 0. 0. 1. 1. 1. 1. 0.\n 0. 0. 1. 1. 0. 1. 0. 0. 0. 0. 0. 0. 0. 0. 1. 1. 0. 0. 0. 1. 0. 1. 0. 0.\n 1. 0. 1. 0. 0. 1. 1. 0. 0. 0. 0. 0. 1. 0. 0. 0. 1. 0. 0. 1. 1. 0. 0. 1.\n 0. 0. 0. 1. 1. 1. 0. 0. 1. 0. 1. 0. 1. 1. 0. 1. 0. 0. 1. 0. 1. 1. 0. 0.\n 1. 0. 1. 0. 0. 1. 0. 1. 0. 1. 1. 1. 0. 0. 1. 0. 1. 0. 0. 0. 1. 0. 0. 0.\n 0. 1. 1. 1. 0. 0. 0. 0. 0. 0. 0. 0. 0. 1. 0. 0. 0. 0. 0. 1. 1. 1. 0. 1.\n 1. 0. 0. 1. 0. 0. 1. 0. 0. 1. 1. 0. 0. 0. 0. 1. 0. 0. 1. 0. 0. 0. 0. 0.\n 0. 0. 1. 1. 1. 0. 0. 1. 0. 0. 1. 0. 0. 1. 0. 1. 1. 0. 1. 0. 1. 0. 1. 0.\n 1. 1. 0. 0. 0. 0. 1. 1. 0. 1. 0. 1. 0. 0. 0. 0. 1. 1. 0. 1. 0. 1. 0. 0.\n 0. 0. 0. 1. 0. 0. 0. 0. 1. 0. 0. 1. 1. 1. 0. 0. 1. 0. 0. 1. 0. 0. 0. 1.\n 0. 0. 1. 0. 0. 0. 0. 0. 0. 0. 0. 0. 1. 0. 0. 0. 0. 0. 0. 0. 1. 0. 0. 0.\n 1. 0. 0. 0. 1. 1. 0. 0. 0. 0. 0. 0. 0. 1. 0. 0. 0. 0. 1. 0. 0. 0. 1. 0.\n 0. 0. 1. 0. 0. 0. 1. 0. 0. 0. 0. 1. 1. 0. 0. 0. 0. 0. 0. 1. 0. 0. 0. 0.\n 0. 0. 0. 0. 0. 0. 0. 1. 0. 0. 0. 1. 1. 1. 1. 0. 0. 1. 1. 0. 0. 0. 0. 0.\n 0. 0. 0. 0. 0. 0. 0. 0. 1. 1. 0. 0. 0. 0. 0. 0. 0. 1. 0. 0. 0. 0. 0. 0.\n 0. 1. 0. 1. 1. 0. 0. 0. 1. 0. 1. 0. 1. 0. 1. 0. 1. 0. 0. 1. 0. 0. 1. 0.\n 0. 0. 0. 1. 1. 0. 1. 0. 0. 0. 0. 1. 1. 0. 1. 0. 0. 0. 1. 1. 0. 0. 0. 0.\n 0. 0. 0. 0. 0. 0. 1. 0. 0. 0. 0. 1. 0. 0. 1. 0. 0. 0. 1. 0. 0. 0. 1. 1.\n 1. 0. 0. 0. 0. 0. 0. 1. 0. 0. 0. 1. 0. 1. 1. 1. 1. 0. 1. 1. 0. 0. 0. 0.\n 0. 0. 0. 1. 1. 0. 1. 0. 0. 1. 0. 1. 0. 0. 0. 0. 0. 1. 0. 1. 0. 1. 0. 1.\n 1. 0. 0. 0. 0. 1. 1. 0. 0. 0. 1. 0. 1. 1. 0. 0. 1. 0. 0. 1. 1. 0. 0. 1.\n 0. 0. 1. 0. 0. 0. 0. 0. 0. 0. 1. 1. 1. 0. 0. 0. 0. 0. 0. 1. 1. 0. 0. 1.\n 0. 0. 1. 0. 1. 1. 1. 0. 0. 1. 1. 1. 0. 1. 0. 1. 0. 1. 0. 0. 0. 0. 1. 0.]\n"
                }
            ],
            "source": "# no null data to fix from above\n# train model to predict outcome.... we will use the first 8 columns to predict the 9th column\n# to split the data we have to convert it into an array\n\npima_data_array = pima_data.values\nprint('Pima Indians data in form of an array:\\n\\n', pima_data_array)\n\n# 8 inputs and 1 output\nx = pima_data_array[:, 0:8]\ny = pima_data_array[:, 8]\nprint('Inputs to predict outcome:\\n\\n', x)\nprint('Output showing the outcome of the prediction:\\n\\n', y)"
        },
        {
            "cell_type": "code",
            "execution_count": 41,
            "metadata": {},
            "outputs": [
                {
                    "name": "stdout",
                    "output_type": "stream",
                    "text": "Pima Indians data shape:\n (768, 9) \nx_train data shape:\n (485, 8) \nx_test data shape:\n (283, 8) \ny_train data shape:\n (485,) \ny_test data shape:\n (283,)\n"
                }
            ],
            "source": "# for machine learning I choose 63.2% training and 36.8% testing\n# program predicts outcome from user's input \n# machine learning library sklearn\n# Logistic regression can be used to model and solve binary classification problems.\n\nimport sklearn\nfrom sklearn import model_selection\nx_train, x_test, y_train, y_test = model_selection.train_test_split(x, y, test_size = 0.368, random_state = 42)\n\n# confirm splitting\nprint('Pima Indians data shape:\\n', pima_data_array.shape, '\\nx_train data shape:\\n', x_train.shape , \n      '\\nx_test data shape:\\n', x_test.shape, '\\ny_train data shape:\\n', y_train.shape, '\\ny_test data shape:\\n', y_test.shape)"
        },
        {
            "cell_type": "code",
            "execution_count": 42,
            "metadata": {},
            "outputs": [
                {
                    "name": "stdout",
                    "output_type": "stream",
                    "text": "\n\nUsing Logistic Regression pipeline, model is training...\n\n\nThe accuracy of the logistic regression pipeline is:\n\n 0.7773851590106007\n\nPlease use the following format to key in the input; e.g.\nPregnancy: 3\nGlucose: 100\nBloodPressure: 86\nSkinThickness: 18\nInsulin: 70\nBMI: 23.5\nDiabetesPedigreeFunction: 0.179\nAge: 29\n\nNew variable: Pregnancy: 3\nNew variable: Glucose: 100\nNew variable: BloodPressure: 86\nNew variable: SkinThickness: 18\nNew variable: Insulin: 70\nNew variable: BMI: 23.5\nNew variable: DiabetesPedigreeFunction: 0.179\nNew variable: Age: 29\n\n\nNew dictionary values of unknown Pima Indian: \n {'Pregnancy:': 3.0, 'Glucose:': 100.0, 'BloodPressure:': 86.0, 'SkinThickness:': 18.0, 'Insulin:': 70.0, 'BMI:': 23.5, 'DiabetesPedigreeFunction:': 0.179, 'Age:': 29.0}\n\nExtracted list of unknown Pima Indian values: \n [3.0, 100.0, 86.0, 18.0, 70.0, 23.5, 0.179, 29.0]\n\n\nPLEASE NOTE:\n\n 0 -> NEGATIVE\n 1 -> POSITIVE\n\n YOUR STATUS IS:  [0.]\n"
                }
            ],
            "source": "# import warnings to remove solver warnings incurred\n# import logistic regression library\n# TRAIN\nimport warnings\nwarnings.filterwarnings('ignore', category = FutureWarning)\n\nfrom sklearn.linear_model import LogisticRegression\nlr = LogisticRegression()\nlr.fit(x_train, y_train)\nprint('\\n\\nUsing Logistic Regression pipeline, model is training...\\n\\n')\n\n# TEST\ny_outcome = lr.predict(x_test)\n\n# ACCURACY\nfrom sklearn.metrics import accuracy_score\nprint('The accuracy of the logistic regression pipeline is:\\n\\n', accuracy_score(y_test, y_outcome))\n\n# INPUT FROM USER\nnew_input = {}\nprint('\\nPlease use the following format to key in the input; e.g.\\nPregnancy: 3\\nGlucose: 100\\nBloodPressure: 86\\nSkinThickness: 18\\nInsulin: 70\\nBMI: 23.5\\nDiabetesPedigreeFunction: 0.179\\nAge: 29\\n')\n\n# arranging 8 element inputs in form of an array\nfor i in range(8):\n    element = input('Enter a new variable: ').split()\n    # assign first item to key and second item to value which should be converted to float\n    new_input[element[0]] = float(element[1])\n    \n# confirm all values are in the dictionary\nprint('\\n\\nNew dictionary values of unknown Pima Indian: \\n', new_input)\n\n# PREDICT from user's input\n# extract values from dictionary and create list to be able to predict the data\n\nnew_inputvariables = list(new_input.values())\n# confirm values are extracted and a list is created\nprint('\\nExtracted list of unknown Pima Indian values: \\n', new_inputvariables)\n\nd_status = lr.predict([new_inputvariables])\nprint('\\n\\nPLEASE NOTE:\\n\\n 0 -> NEGATIVE\\n 1 -> POSITIVE\\n\\n YOUR STATUS IS: ', d_status)"
        },
        {
            "cell_type": "code",
            "execution_count": null,
            "metadata": {},
            "outputs": [],
            "source": ""
        }
    ],
    "metadata": {
        "kernelspec": {
            "display_name": "Python 3.6",
            "language": "python",
            "name": "python3"
        },
        "language_info": {
            "codemirror_mode": {
                "name": "ipython",
                "version": 3
            },
            "file_extension": ".py",
            "mimetype": "text/x-python",
            "name": "python",
            "nbconvert_exporter": "python",
            "pygments_lexer": "ipython3",
            "version": "3.6.9"
        }
    },
    "nbformat": 4,
    "nbformat_minor": 1
}